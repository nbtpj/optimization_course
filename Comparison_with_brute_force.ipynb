{
 "cells": [
  {
   "cell_type": "code",
   "execution_count": 10,
   "id": "initial_id",
   "metadata": {
    "collapsed": true,
    "ExecuteTime": {
     "end_time": "2024-03-16T15:16:38.691839Z",
     "start_time": "2024-03-16T15:16:38.686348Z"
    }
   },
   "outputs": [],
   "source": [
    "import cvxpy\n",
    "import cvxpy as cp\n",
    "import numpy as np\n",
    "from tqdm.auto import tqdm\n",
    "import argparse\n",
    "import time\n",
    "import matplotlib.pyplot as plt\n",
    "parser = argparse.ArgumentParser()\n",
    "parser.add_argument(\"--N\", default=10, type=int, help=\"# train points\")\n",
    "parser.add_argument(\"--n_alias\", default=2, type=int, help=\"# alias points\")\n",
    "parser.add_argument(\"--a\", default=.2, type=float, help=\"alpha. See paper-experiment 1\")\n",
    "parser.add_argument(\"--theta\", default=1, type=float)\n",
    "parser.add_argument(\"--seed\", default=10, type=int)\n",
    "parser.add_argument(\"--noise\", default=0.1, type=float)\n",
    "parser.add_argument(\"--plot_bruteforce\", action=\"store_true\", help=\"Plot BruteForce prediction\")\n",
    "parser.add_argument(\"--plot_sccf\", action=\"store_true\", help=\"Plot SCCF prediction\")\n",
    "parser.add_argument(\"--step_size\", default=0.2, type=float, help=\"SCCF step size\")\n",
    "parser.add_argument(\"--maxiter\", default=25, type=int, help=\"SCCF # iter\")\n",
    "parser.add_argument(\"--tol\", default=1e-5, type=float, help=\"SCCF tol\")\n",
    "args = parser.parse_args(\"--N 10 --n_alias 2 --a 0.2 --plot_bruteforce --plot_sccf\".split())\n",
    "\n",
    "np.random.seed(args.seed)"
   ]
  },
  {
   "cell_type": "markdown",
   "source": [
    "# Primal Problem\n",
    "\n",
    "We consider the problem in the first experiment:\n",
    "Finding the predefined $\\theta$, knowing the observations:\n",
    "$$\n",
    "\\begin{aligned}\n",
    "    x_i\\sim \\mathcal{N}(0,1)\\forall i\\in[0, N)\\\\\n",
    "    y_i\\sim (-1)^j\\mathcal{N}(\\theta*x_i, 0.1)\\forall i\\in[0, N)\\\\ \n",
    "    j = \\begin{cases}\n",
    "    1 \\text{ total of flipped ys are given}\\\\\n",
    "    2 \\text{ otherwise}\n",
    "    \\end{cases}\n",
    "\\end{aligned}\n",
    "$$\n",
    "\n",
    "Here is the data-generating code: "
   ],
   "metadata": {
    "collapsed": false
   },
   "id": "7d73f1fa446e7d7e"
  },
  {
   "cell_type": "code",
   "outputs": [],
   "source": [
    "N = args.N\n",
    "true_theta = args.theta\n",
    "x = np.random.normal(0, 1, size=(N,))\n",
    "z = np.random.normal(0, 1, size=(N,))\n",
    "y = true_theta * x  # this is true function we need to estimate of linear regression\n",
    "noisy_y = y + args.noise * z  # make it noisy\n",
    "indices = np.arange(N)\n",
    "np.random.shuffle(indices)\n",
    "y_with_outliers = np.copy(y)\n",
    "y_with_outliers[indices[:args.n_alias]] *= -1"
   ],
   "metadata": {
    "collapsed": false,
    "ExecuteTime": {
     "end_time": "2024-03-16T15:16:38.700457Z",
     "start_time": "2024-03-16T15:16:38.690891Z"
    }
   },
   "id": "f871bea84b54c6bb",
   "execution_count": 11
  },
  {
   "cell_type": "markdown",
   "source": [
    "# Clipped Regression Problem\n",
    "Obviously, this problem can be solved by a clipped convex problem.\n",
    "To handle the alias, we add a heuristic hyper-parameter $\\alpha$ to limit the maximal difference between prediction and observation.\n",
    "The clipped problem is: \n",
    "\n",
    "$$\n",
    "\\begin{equation}\n",
    "\\begin{aligned}\n",
    "& \\text{minimize}_\\theta & \\sum_i{\\min((\\theta x_i - y_i)^2, \\alpha)} + (0.1)\\theta^2\\\\\n",
    "& \\text{subject to} &  \\alpha\\geq0 \n",
    "\\end{aligned}\n",
    "\\end{equation}\n",
    "$$\n",
    "\n",
    "## SCCF Method\n",
    "\n",
    "The following is the implementation of the paper method, which also measures the running time:"
   ],
   "metadata": {
    "collapsed": false
   },
   "id": "419f4b4eb799ab34"
  },
  {
   "cell_type": "code",
   "outputs": [],
   "source": [
    "def sccf_sol(x, y_with_outliers, a, N, args):\n",
    "    import sccf\n",
    "    start_time = time.time()\n",
    "    theta = cp.Variable(1)\n",
    "    x_train = cp.Parameter(N, value=x)\n",
    "    y_train = cp.Parameter(N, value=y_with_outliers)\n",
    "\n",
    "    f_is = [sccf.MinExpression(cp.square(x_train[t] * theta[0] - y_train[t]), a)\n",
    "            for t in range(N)]\n",
    "    objective = sccf.SumOfMinExpressions(f_is) + 0.1 * theta[0] ** 2\n",
    "    prob = sccf.Problem(objective)\n",
    "    prob.solve(step_size=args.step_size, maxiter=args.maxiter, tol=args.tol, verbose=True)\n",
    "    end_time = time.time()\n",
    "    running_time = end_time - start_time\n",
    "    return theta[0].value, running_time"
   ],
   "metadata": {
    "collapsed": false,
    "ExecuteTime": {
     "end_time": "2024-03-16T15:16:38.753235Z",
     "start_time": "2024-03-16T15:16:38.702313Z"
    }
   },
   "id": "f29549f458da190",
   "execution_count": 12
  },
  {
   "cell_type": "markdown",
   "source": [
    "## Brute Force Method\n",
    "\n",
    "Alternatively, we can solve $2^N$ convex sub-problems, then decide the optimal $\\theta$.\n",
    "Each sub-problem is:\n",
    "\n",
    "$$\n",
    "\\begin{equation}\n",
    "\\begin{aligned}\n",
    "& \\text{minimize}_\\theta & \\sum_i{\\left(\\phi_i*(\\theta x_i - y_i)^2 + (1-\\phi_i)*\\alpha\\right)} + (0.1)\\theta^2\\\\\n",
    "& \\text{subject to} &  \\phi_i\\in\\{0,1\\}\\forall i\\in[0, N) \n",
    "\\end{aligned}\n",
    "\\end{equation}\n",
    "$$\n",
    "\n",
    "Having, at most, $2^N$ solutions, we consider the minimal objective then decide the $\\theta^*$.\n",
    "The following is the implementation of the brute force method, which also measures the running time:\n",
    "\n"
   ],
   "metadata": {
    "collapsed": false
   },
   "id": "76e5e941dfdfeb3f"
  },
  {
   "cell_type": "code",
   "outputs": [],
   "source": [
    "def repeatable_permutations(n):\n",
    "    permutations = []\n",
    "\n",
    "    def generate_permutations(prefix, n):\n",
    "        if n == 0:\n",
    "            permutations.append([int(x) for x in prefix])\n",
    "        else:\n",
    "            generate_permutations(prefix + '0', n - 1)\n",
    "            generate_permutations(prefix + '1', n - 1)\n",
    "\n",
    "    generate_permutations('', n)\n",
    "    return np.array(permutations)\n",
    "\n",
    "def brute_force_sol(x, y_with_outliers, a, N, args):\n",
    "    sub_probs = []\n",
    "    lams = repeatable_permutations(N)\n",
    "    start_time = time.time()\n",
    "    for i, lam in tqdm(enumerate(lams), \"brute_force_sol: Solving sub-problems....\"):\n",
    "\n",
    "        theta = cp.Variable(1)\n",
    "        x_train = cp.Parameter(N, value=x)\n",
    "        y_train = cp.Parameter(N, value=y_with_outliers)\n",
    "        f_is = []\n",
    "        constraints = []\n",
    "        for t, l in enumerate(lam):\n",
    "            if l:\n",
    "                f_is.append(cp.square(x_train[t] * theta[0] - y_train[t]))\n",
    "                constraints.append(cp.square(x_train[t] * theta[0] - y_train[t]) <= a)\n",
    "            else:\n",
    "                f_is.append(a)\n",
    "\n",
    "        objective = cvxpy.Minimize(cvxpy.sum(f_is) + 0.1 * theta[0] ** 2)\n",
    "        prob = cvxpy.Problem(objective)\n",
    "        prob.solve()\n",
    "        if prob.status not in [\"infeasible\", \"unbounded\"]:\n",
    "            sub_probs.append([prob, theta.value, lam])\n",
    "\n",
    "    objectives = [prob[0].objective.value for prob in sub_probs]\n",
    "    end_time = time.time()\n",
    "    min_idx = np.argmin(objectives)\n",
    "    theta = sub_probs[min_idx][1]\n",
    "    running_time = end_time - start_time\n",
    "    return theta[0], running_time"
   ],
   "metadata": {
    "collapsed": false,
    "ExecuteTime": {
     "end_time": "2024-03-16T15:16:38.755181Z",
     "start_time": "2024-03-16T15:16:38.715975Z"
    }
   },
   "id": "afc1ebf11494b8fa",
   "execution_count": 13
  },
  {
   "cell_type": "markdown",
   "source": [
    "# Comparison\n",
    "\n",
    "In this experiment, we compare the optimality and computation complexity of two approach; by two metrics:\n",
    "- Absolute distance to the given $\\theta$ from the output prediction\n",
    "- Computation time (in seconds)"
   ],
   "metadata": {
    "collapsed": false
   },
   "id": "19ce0b3bb4726e0a"
  },
  {
   "cell_type": "code",
   "outputs": [
    {
     "data": {
      "text/plain": "brute_force_sol: Solving sub-problems....: 0it [00:00, ?it/s]",
      "application/vnd.jupyter.widget-view+json": {
       "version_major": 2,
       "version_minor": 0,
       "model_id": "4e7cd5cb088f4410b817e7c48315ce96"
      }
     },
     "metadata": {},
     "output_type": "display_data"
    },
    {
     "name": "stdout",
     "output_type": "stream",
     "text": [
      "0001 | 1.0779e+00 | 5.0000e-01\n",
      "0002 | 1.0757e+00 | 2.0000e-01\n",
      "0003 | 1.0680e+00 | 1.0000e-01\n",
      "0004 | 1.0626e+00 | 2.0000e-01\n",
      "0005 | 1.0898e+00 | 2.0000e-01\n",
      "0006 | 1.0626e+00 | 2.0000e-01\n",
      "0007 | 1.0898e+00 | 2.0000e-01\n",
      "0008 | 1.0626e+00 | 2.0000e-01\n",
      "0009 | 1.0898e+00 | 2.0000e-01\n",
      "0010 | 1.0626e+00 | 2.0000e-01\n",
      "0011 | 1.0902e+00 | 2.0000e-01\n",
      "0012 | 1.0626e+00 | 2.0000e-01\n",
      "0013 | 1.0898e+00 | 2.0000e-01\n",
      "0014 | 1.0626e+00 | 2.0000e-01\n",
      "0015 | 1.0898e+00 | 2.0000e-01\n",
      "0016 | 1.0626e+00 | 2.0000e-01\n",
      "0017 | 1.0930e+00 | 2.0000e-01\n",
      "0018 | 1.0626e+00 | 2.0000e-01\n",
      "0019 | 1.0898e+00 | 2.0000e-01\n",
      "0020 | 1.0626e+00 | 2.0000e-01\n",
      "0021 | 1.0916e+00 | 2.0000e-01\n",
      "0022 | 1.0626e+00 | 2.0000e-01\n",
      "0023 | 1.0898e+00 | 2.0000e-01\n",
      "0024 | 1.0626e+00 | 2.0000e-01\n",
      "0025 | 1.0898e+00 | 2.0000e-01\n",
      "Terminated (maximum number of iterations reached).\n",
      "------------------------------\n",
      "Difference with golden theta: brute force: 0.028581247536902055; sccf: 0.8855898880794746\n",
      "Running time: brute force: 7.80s; sccf: 0.23s\n",
      "------------------------------\n"
     ]
    },
    {
     "data": {
      "text/plain": "<Figure size 640x480 with 1 Axes>",
      "image/png": "[encoded data removed]"
     },
     "metadata": {},
     "output_type": "display_data"
    }
   ],
   "source": [
    "a =  args.a\n",
    "bf_theta, bf_runtime = brute_force_sol(x, y_with_outliers, a, N, args)\n",
    "sccf_theta, sccf_runtime = sccf_sol(x, y_with_outliers, a, N, args)\n",
    "print('-' * 30)\n",
    "print(\n",
    "    f'Difference with golden theta: brute force: {abs(bf_theta - true_theta)}; sccf: {abs(sccf_theta - true_theta)}')\n",
    "print(f'Running time: brute force: {bf_runtime:.2f}s; sccf: {sccf_runtime:.2f}s')\n",
    "print('-' * 30)\n",
    "\n",
    "# sample x\n",
    "sample_x = np.linspace(np.amin(x), np.amax(x), 30)\n",
    "\n",
    "if args.plot_bruteforce:\n",
    "    predicted_y = sample_x * bf_theta\n",
    "    plt.plot(sample_x, predicted_y, label='bf_theta')\n",
    "\n",
    "if args.plot_sccf:\n",
    "    predicted_y = sample_x * sccf_theta\n",
    "    plt.plot(sample_x, predicted_y, label='sccf_theta')\n",
    "\n",
    "if args.plot_sccf or args.plot_bruteforce:\n",
    "    plt.scatter(x, y_with_outliers, label='train data')\n",
    "    plt.legend()\n",
    "    plt.show()\n"
   ],
   "metadata": {
    "collapsed": false,
    "ExecuteTime": {
     "end_time": "2024-03-16T15:16:47.002891Z",
     "start_time": "2024-03-16T15:16:38.726454Z"
    }
   },
   "id": "8ecc4d7c9eeca14a",
   "execution_count": 14
  },
  {
   "cell_type": "markdown",
   "source": [
    "After running with different $N$, we have the following table:\n",
    "\n",
    "| N  | Error Brute Force | Error SCCF | Runtime BF | Runtime SCCF |\n",
    "|----|-------------------|------------|------------|-------------|\n",
    "| 10 | 0.0286            | 0.8856     | 6.44       | 0.19        |\n",
    "| 11 | 0.0189            | 0.1807     | 13.59      | 0.04        |\n",
    "| 12 | 0.0222            | 0.0724     | 29.14      | 0.04        |\n",
    "| 13 | 0.0134            | 0.3045     | 61.90      | 0.25        |\n",
    "| 14 | 0.0118            | 0.2439     | 140.67     | 0.08        |\n",
    "| 15 | 0.0114            | 0.2562     | 293.08     | 0.09        |\n",
    "\n",
    "SCCF seems to be low accurate, but very fast!"
   ],
   "metadata": {
    "collapsed": false
   },
   "id": "7bfbffc6a129bf34"
  },
  {
   "cell_type": "code",
   "outputs": [],
   "source": [],
   "metadata": {
    "collapsed": false,
    "ExecuteTime": {
     "end_time": "2024-03-16T15:16:47.012056Z",
     "start_time": "2024-03-16T15:16:47.000676Z"
    }
   },
   "id": "becf1b4e94203e7a",
   "execution_count": 14
  }
 ],
 "metadata": {
  "kernelspec": {
   "display_name": "Python 3",
   "language": "python",
   "name": "python3"
  },
  "language_info": {
   "codemirror_mode": {
    "name": "ipython",
    "version": 2
   },
   "file_extension": ".py",
   "mimetype": "text/x-python",
   "name": "python",
   "nbconvert_exporter": "python",
   "pygments_lexer": "ipython2",
   "version": "2.7.6"
  }
 },
 "nbformat": 4,
 "nbformat_minor": 5
}
